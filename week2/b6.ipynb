{
 "cells": [
  {
   "cell_type": "code",
   "execution_count": 286,
   "metadata": {},
   "outputs": [],
   "source": [
    "# Polonomial Regression (Feature engineerimg)\n",
    "\"\"\"\n",
    "compute_cost      ----- |\n",
    "compute_gradient  -----  > Do same as linearg regression\n",
    "gradient_descent  ----- |\n",
    "z_score_normalization (Feature Scaling)\n",
    "generate_polynomial_feature (Feature Engineering)  from X feature add features lik X^2 X^3 and son on\n",
    "plot target vs estimated\n",
    "\"\"\"\n",
    "\n",
    "import numpy as np \n",
    "import matplotlib.pyplot as plt\n",
    "import math,copy\n",
    "np.set_printoptions(precision=2)"
   ]
  },
  {
   "cell_type": "code",
   "execution_count": 287,
   "metadata": {},
   "outputs": [],
   "source": [
    "# compute_cost , squared root erors\n",
    "\"\"\" j(w,b) = 1/2m * sum of ((w.X[i] + b)-y[i])^2\n",
    "\"\"\"\n",
    "def compute_cost(X,y,w,b):\n",
    "    j_w_b = 0\n",
    "    m = X.shape[0]\n",
    "    for i in range(m):\n",
    "        j_w_b = j_w_b + ((np.dot(X[i],w)+b)-y[i])**2\n",
    "    j_w_b = j_w_b/(2*m)\n",
    "    return j_w_b "
   ]
  },
  {
   "cell_type": "code",
   "execution_count": 288,
   "metadata": {},
   "outputs": [],
   "source": [
    "# compute_gradient\n",
    "\"\"\" dj_dw = 1/m * sum of ((w.X[i]+b)-y[i]).X[i]\n",
    "    dj_db = 1/m * sum of ((w.X[i]+b)-y[i])\n",
    "\"\"\"\n",
    "def compute_gradient(X,y,w,b):\n",
    "    m,n=X.shape # rows and features\n",
    "    dj_dw = np.zeros(n)\n",
    "    dj_db = 0\n",
    "    for i in range (m):\n",
    "        dj_dw = dj_dw + ((np.dot(X[i],w)+b)-y[i]) * X[i]  #Scalr * Vector so no need to np.dot\n",
    "        dj_db = dj_db + ((np.dot(X[i],w)+b)-y[i])\n",
    "    dj_dw = dj_dw/m\n",
    "    dj_db = dj_db/m\n",
    "    return dj_dw,dj_db"
   ]
  },
  {
   "cell_type": "code",
   "execution_count": 289,
   "metadata": {},
   "outputs": [],
   "source": [
    "#gradient_descent\n",
    "\"\"\"Repeat till convergence {\n",
    "    w = w - alpha*dj_dw\n",
    "    b = b - alpha*dj_db\n",
    "}\n",
    "\"\"\"\n",
    "def gradient_descent(X,y,w,b,alpha,itr_num):\n",
    "    w = copy.deepcopy(w)\n",
    "    b = copy.deepcopy(b)\n",
    "    for i in range(itr_num):\n",
    "        dj_dw,dj_db = compute_gradient(X,y,w,b)\n",
    "        w = w - alpha* dj_dw\n",
    "        b = b - alpha * dj_db\n",
    "        if i % math.ceil(itr_num/10)==0:\n",
    "            print(f\"Iteration {i:3d} w = {w} b = {b}\")\n",
    "\n",
    "    return w,b\n"
   ]
  },
  {
   "cell_type": "code",
   "execution_count": 290,
   "metadata": {},
   "outputs": [],
   "source": [
    "# z_score_normalization\n",
    "def z_score_normalization(X):\n",
    "    mu = np.mean(X,axis=0)\n",
    "    sigma = np.std(X,axis=0)\n",
    "    X = (X-mu)/sigma\n",
    "    return mu,sigma,X\n"
   ]
  },
  {
   "cell_type": "code",
   "execution_count": 291,
   "metadata": {},
   "outputs": [],
   "source": [
    "#genrate_poly_features\n",
    "def generate_polynomial_features(X, degrees):\n",
    "    X_poly = X.copy()\n",
    "    for degree in degrees:\n",
    "        if degree !=1 : #Skip degree 1 as its already an existing feature\n",
    "            X_poly = np.concatenate((X_poly,X**degree),axis=1)    \n",
    "    \n",
    "    return X_poly"
   ]
  },
  {
   "cell_type": "code",
   "execution_count": 292,
   "metadata": {},
   "outputs": [],
   "source": [
    "# Example usage:\n",
    "X_train = np.array([[1], [2], [3], [4]])  # Feature matrix\n",
    "y_train = np.array([2, 5, 10, 17])  # Target values\n",
    "\n",
    "X_poly = generate_polynomial_features(X_train, degrees=[1,2])\n",
    "mu,sigma,X_poly_norm = z_score_normalization(X_poly)"
   ]
  },
  {
   "cell_type": "code",
   "execution_count": 293,
   "metadata": {},
   "outputs": [
    {
     "name": "stdout",
     "output_type": "stream",
     "text": [
      "Iteration   0 w = [0.06 0.05 0.05] b = 0.085\n",
      "Iteration 100 w = [2.09 1.74 1.61] b = 5.419837848185773\n",
      "Iteration 200 w = [2.48 1.75 1.54] b = 7.372561036070251\n",
      "Iteration 300 w = [2.72 1.68 1.39] b = 8.087320876390129\n",
      "Iteration 400 w = [2.92 1.61 1.27] b = 8.34894609419049\n",
      "Iteration 500 w = [3.08 1.56 1.17] b = 8.444709385198072\n",
      "Iteration 600 w = [3.21 1.52 1.08] b = 8.479761846813608\n",
      "Iteration 700 w = [3.33 1.49 1.01] b = 8.492592181406136\n",
      "Iteration 800 w = [3.42 1.46 0.94] b = 8.49728849881636\n",
      "Iteration 900 w = [3.5  1.44 0.89] b = 8.499007502873388\n"
     ]
    }
   ],
   "source": [
    "# run gradient_descent\n",
    "w_final,b_final = gradient_descent(X_poly_norm,y_train,np.zeros(X_poly_norm.shape[1]),0,1e-2,1000)"
   ]
  },
  {
   "cell_type": "code",
   "execution_count": 294,
   "metadata": {},
   "outputs": [
    {
     "data": {
      "text/plain": [
       "[<matplotlib.lines.Line2D at 0x1c89eb256d0>]"
      ]
     },
     "execution_count": 294,
     "metadata": {},
     "output_type": "execute_result"
    },
    {
     "data": {
      "image/png": "[encoded data removed]",
      "text/plain": [
       "<Figure size 640x480 with 1 Axes>"
      ]
     },
     "metadata": {},
     "output_type": "display_data"
    }
   ],
   "source": [
    "def predict(X,w,b): # X_norm w_final b_final\n",
    "    m =X.shape[0]\n",
    "    y = np.zeros(m)\n",
    "    for i in range(m):\n",
    "        y[i]=np.dot(w,X[i])+b\n",
    "    return y\n",
    "\n",
    "plt.scatter(X_poly_norm[:,0],y_train)\n",
    "plt.plot(X_poly_norm[:,0], predict (X_poly_norm,w_final,b_final) )\n"
   ]
  },
  {
   "cell_type": "code",
   "execution_count": 295,
   "metadata": {},
   "outputs": [
    {
     "name": "stdout",
     "output_type": "stream",
     "text": [
      "1\n",
      "7\n",
      "9\n"
     ]
    }
   ],
   "source": [
    "zz = [1,7,9]\n",
    "for i in zz:\n",
    "    print(i)"
   ]
  },
  {
   "cell_type": "code",
   "execution_count": null,
   "metadata": {},
   "outputs": [],
   "source": []
  }
 ],
 "metadata": {
  "kernelspec": {
   "display_name": "Python 3",
   "language": "python",
   "name": "python3"
  },
  "language_info": {
   "codemirror_mode": {
    "name": "ipython",
    "version": 3
   },
   "file_extension": ".py",
   "mimetype": "text/x-python",
   "name": "python",
   "nbconvert_exporter": "python",
   "pygments_lexer": "ipython3",
   "version": "3.11.0"
  }
 },
 "nbformat": 4,
 "nbformat_minor": 2
}
