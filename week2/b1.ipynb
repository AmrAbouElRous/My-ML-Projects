{
 "cells": [
  {
   "cell_type": "markdown",
   "metadata": {},
   "source": [
    "# Numpy"
   ]
  },
  {
   "cell_type": "code",
   "execution_count": 1,
   "metadata": {},
   "outputs": [],
   "source": [
    "import numpy as np\n",
    "import time\n"
   ]
  },
  {
   "cell_type": "code",
   "execution_count": 2,
   "metadata": {},
   "outputs": [
    {
     "name": "stdout",
     "output_type": "stream",
     "text": [
      "a=[0. 0. 0. 0.] ,shape = (4,) ,data type = float64\n",
      "a=[[0. 0. 0. 0.]] ,shape = (1, 4) ,data type = float64\n",
      "a=[[0.]\n",
      " [0.]\n",
      " [0.]\n",
      " [0.]] ,shape = (4, 1) ,data type = float64\n",
      "a=[[1 2 3 4]\n",
      " [1 2 3 4]] ,shape = (2, 4) ,data type = int32\n",
      "a=[1 2 3 4] ,shape = (4,) ,data type = int32\n",
      "a=[[1]\n",
      " [2]\n",
      " [3]\n",
      " [4]] ,shape = (4, 1) data type = int32\n"
     ]
    }
   ],
   "source": [
    "\"\"\" Vectors\"\"\" #Vectors is a specific type of array with 1-D it can be row vector or column vector\n",
    "               # all vectors are arrays but not vice versa\n",
    "#vector \n",
    "a = np.zeros(4)\n",
    "print(f\"a={a} ,shape = {a.shape} ,data type = {a.dtype}\")\n",
    "#vector\n",
    "a = np.zeros((1,4)) \n",
    "print(f\"a={a} ,shape = {a.shape} ,data type = {a.dtype}\")\n",
    "#vector (column vector)\n",
    "a = np.zeros((4,1)) \n",
    "print(f\"a={a} ,shape = {a.shape} ,data type = {a.dtype}\")\n",
    "#array\n",
    "a=np.array([[1,2,3,4],[1,2,3,4]])\n",
    "print(f\"a={a} ,shape = {a.shape} ,data type = {a.dtype}\")\n",
    "#vector\n",
    "a= np.array([1,2,3,4]) \n",
    "print(f\"a={a} ,shape = {a.shape} ,data type = {a.dtype}\")\n",
    "\n",
    "#vector (column vector)\n",
    "a = np.array([1, 2, 3, 4]).reshape(-1, 1)\n",
    "print(f\"a={a} ,shape = {a.shape} data type = {a.dtype}\")\n",
    "\n"
   ]
  },
  {
   "cell_type": "markdown",
   "metadata": {},
   "source": [
    "# Indexing"
   ]
  },
  {
   "cell_type": "code",
   "execution_count": 3,
   "metadata": {},
   "outputs": [
    {
     "name": "stdout",
     "output_type": "stream",
     "text": [
      "[0 1 2 3 4 5 6 7 8 9]\n",
      "a[2].shape: () a[2]  = 2, Accessing an element returns a scalar\n",
      "a[-1] = 9\n",
      "The error message you'll see is:\n",
      "index 10 is out of bounds for axis 0 with size 10\n"
     ]
    }
   ],
   "source": [
    "#vector indexing operations on 1-D vectors\n",
    "a = np.arange(10)\n",
    "print(a) \n",
    "\n",
    "#access an element\n",
    "print(f\"a[2].shape: {a[2].shape} a[2]  = {a[2]}, Accessing an element returns a scalar\")\n",
    "\n",
    "# access the last element, negative indexes count from the end\n",
    "print(f\"a[-1] = {a[-1]}\")\n",
    "\n",
    "#indexs must be within the range of the vector or they will produce and error\n",
    "try:\n",
    "    c = a[10]\n",
    "except Exception as e:\n",
    "    print(\"The error message you'll see is:\")\n",
    "    print(e)\n",
    "    "
   ]
  },
  {
   "cell_type": "markdown",
   "metadata": {},
   "source": [
    "# Slicing<br>\n",
    "start: The starting index (inclusive).\n",
    "stop: The stopping index (exclusive).\n",
    "step: The step size (default is 1)."
   ]
  },
  {
   "cell_type": "code",
   "execution_count": 4,
   "metadata": {},
   "outputs": [
    {
     "name": "stdout",
     "output_type": "stream",
     "text": [
      "a         = [0 1 2 3 4 5 6 7 8 9]\n",
      "a[2:7:1] =  [2 3 4 5 6]\n",
      "a[2:7:2] =  [2 4 6]\n",
      "a[3:]    =  [3 4 5 6 7 8 9]\n",
      "a[:3]    =  [0 1 2]\n",
      "a[:]     =  [0 1 2 3 4 5 6 7 8 9]\n"
     ]
    }
   ],
   "source": [
    "#vector slicing operations\n",
    "a = np.arange(10)\n",
    "print(f\"a         = {a}\")\n",
    "\n",
    "#access 5 consecutive elements (start:stop:step)\n",
    "c = a[2:7:1];     print(\"a[2:7:1] = \", c)\n",
    "\n",
    "# access 3 elements separated by two \n",
    "c = a[2:7:2];     print(\"a[2:7:2] = \", c)\n",
    "\n",
    "# access all elements index 3 and above\n",
    "c = a[3:];        print(\"a[3:]    = \", c)\n",
    "\n",
    "# access all elements below index 3\n",
    "c = a[:3];        print(\"a[:3]    = \", c)\n",
    "\n",
    "# access all elements\n",
    "c = a[:];         print(\"a[:]     = \", c)"
   ]
  },
  {
   "cell_type": "markdown",
   "metadata": {},
   "source": [
    "Some operations on vector (1-D array)"
   ]
  },
  {
   "cell_type": "code",
   "execution_count": 5,
   "metadata": {},
   "outputs": [
    {
     "name": "stdout",
     "output_type": "stream",
     "text": [
      "a             : [1 2 3 4]\n",
      "b = -a        : [-1 -2 -3 -4]\n",
      "b = np.sum(a) : 10\n",
      "b = np.mean(a): 2.5\n",
      "b = a**2      : [ 1  4  9 16]\n"
     ]
    }
   ],
   "source": [
    "a = np.array([1,2,3,4])\n",
    "print(f\"a             : {a}\")\n",
    "# negate elements of a\n",
    "b = -a \n",
    "print(f\"b = -a        : {b}\")\n",
    "\n",
    "# sum all elements of a, returns a scalar\n",
    "b = np.sum(a) \n",
    "print(f\"b = np.sum(a) : {b}\")\n",
    "\n",
    "b = np.mean(a)\n",
    "print(f\"b = np.mean(a): {b}\")\n",
    "\n",
    "b = a**2\n",
    "print(f\"b = a**2      : {b}\")"
   ]
  },
  {
   "cell_type": "markdown",
   "metadata": {},
   "source": [
    "<img src = ./Images/b11.png></img>"
   ]
  },
  {
   "cell_type": "code",
   "execution_count": 6,
   "metadata": {},
   "outputs": [
    {
     "name": "stdout",
     "output_type": "stream",
     "text": [
      "Dot product of a = [1,2,3] and b= [7,8,9] = 50  \n"
     ]
    }
   ],
   "source": [
    "\"\"\"Dot product using for loop\"\"\"\n",
    "def my_dot(a,b):\n",
    "    x=0\n",
    "    for i in range(a.shape[0]):\n",
    "        x=x+ (a[i]*b[i])\n",
    "        \n",
    "    return x\n",
    "\n",
    "print(f\"Dot product of a = [1,2,3] and b= [7,8,9] = {my_dot(np.array([1,2,3]),np.array([7,8,9]))}  \")\n"
   ]
  },
  {
   "cell_type": "code",
   "execution_count": 7,
   "metadata": {},
   "outputs": [
    {
     "name": "stdout",
     "output_type": "stream",
     "text": [
      "Dot product of a = [1,2,3] and b= [7,8,9] = 50  \n"
     ]
    }
   ],
   "source": [
    "\"\"\"Dot product using np.dot\"\"\"\n",
    "a=np.array([1,2,3])\n",
    "b=np.array([7,8,9])\n",
    "c=np.dot(a,b)\n",
    "print(f\"Dot product of a = [1,2,3] and b= [7,8,9] = {c}  \")\n"
   ]
  },
  {
   "cell_type": "markdown",
   "metadata": {},
   "source": [
    "Defference in time between vectorization and for loop"
   ]
  },
  {
   "cell_type": "code",
   "execution_count": 8,
   "metadata": {},
   "outputs": [
    {
     "name": "stdout",
     "output_type": "stream",
     "text": [
      "np.dot(a,b)= 2499266.1064\n",
      "time = 0.01567363739013672 second\n",
      "Dot product =2499266.1064\n",
      "time = 2.8058009147644043 seconds\n",
      "[0.41472435 0.98306583 0.21169921 0.57677065 0.63088672]\n",
      "[0.13852931 0.84607535 0.73712684 0.60616276 0.0396947 ]\n"
     ]
    }
   ],
   "source": [
    "a = np.random.rand(10000000) #very large random array\n",
    "b = np.random.rand(10000000) #very large random array\n",
    "tic = time.time()\n",
    "c = np.dot(a,b)\n",
    "toc = time.time()\n",
    "print(f\"np.dot(a,b)= {c:.4f}\")\n",
    "print(f\"time = {(toc-tic)} second\")\n",
    "\n",
    "tic = time.time()\n",
    "c= my_dot(a,b)\n",
    "toc = time.time()\n",
    "\n",
    "print(f\"Dot product ={c:.4f}\" )\n",
    "print(f\"time = {toc-tic} seconds\")\n",
    "\n",
    "print(np.random.random_sample(5))\n",
    "print(np.random.rand(5))\n"
   ]
  },
  {
   "cell_type": "markdown",
   "metadata": {},
   "source": [
    "Now we find that Vectorization make code much faster because it use parallels technique   and also use both cpu and gpu"
   ]
  },
  {
   "cell_type": "code",
   "execution_count": 15,
   "metadata": {},
   "outputs": [
    {
     "name": "stdout",
     "output_type": "stream",
     "text": [
      "[0 1 2 3 4 5]\n",
      "[[0 1]\n",
      " [2 3]\n",
      " [4 5]]\n"
     ]
    }
   ],
   "source": [
    "a = np.arange(6)\n",
    "print(a)\n",
    "a = np.arange(6).reshape(-1,2)\n",
    "\"\"\".reshape(-1, 2) reshapes this 1D array into a 2D array with 2 columns and an appropriate number of rows.\n",
    " The -1 argument tells NumPy to automatically determine the number of rows based on the length of the array and the specified number of columns.\n",
    " \"\"\"\n",
    "print(a)\n",
    "\n"
   ]
  },
  {
   "cell_type": "markdown",
   "metadata": {},
   "source": [
    "# Slicing"
   ]
  },
  {
   "cell_type": "code",
   "execution_count": 32,
   "metadata": {},
   "outputs": [
    {
     "name": "stdout",
     "output_type": "stream",
     "text": [
      "a = \n",
      "[[ 0  1  2  3  4  5  6  7  8  9]\n",
      " [10 11 12 13 14 15 16 17 18 19]]\n",
      "a[0, 2:7:1] =  [2 3 4 5 6] ,  a[0, 2:7:1].shape = (5,) a 1-D array\n",
      "a[:, 2:7:1] = \n",
      " [[ 2  3  4  5  6]\n",
      " [12 13 14 15 16]] ,  a[:, 2:7:1].shape = (2, 5) a 2-D array\n",
      "a[:,:] = \n",
      " [[ 0  1  2  3  4  5  6  7  8  9]\n",
      " [10 11 12 13 14 15 16 17 18 19]] ,  a[:,:].shape = (2, 10)\n",
      "a[1,:] =  [10 11 12 13 14 15 16 17 18 19] ,  a[1,:].shape = (10,) a 1-D array\n",
      "a[1]   =  [10 11 12 13 14 15 16 17 18 19] ,  a[1].shape   = (10,) a 1-D array\n",
      "***********************************************************************\n",
      "[[ 2  3  4  5]\n",
      " [12 13 14 15]]\n",
      "************************\n",
      "[10 12 14 16 18]\n"
     ]
    }
   ],
   "source": [
    "#vector 2-D slicing operations\n",
    "a = np.arange(20).reshape(-1, 10)\n",
    "print(f\"a = \\n{a}\")\n",
    "\n",
    "#access 5 consecutive elements (start:stop:step)\n",
    "print(\"a[0, 2:7:1] = \", a[0, 2:7:1], \",  a[0, 2:7:1].shape =\", a[0, 2:7:1].shape, \"a 1-D array\")\n",
    "\n",
    "#access 5 consecutive elements (start:stop:step) in two rows\n",
    "print(\"a[:, 2:7:1] = \\n\", a[:, 2:7:1], \",  a[:, 2:7:1].shape =\", a[:, 2:7:1].shape, \"a 2-D array\")\n",
    "\n",
    "# access all elements\n",
    "print(\"a[:,:] = \\n\", a[:,:], \",  a[:,:].shape =\", a[:,:].shape)\n",
    "\n",
    "# access all elements in one row (very common usage)\n",
    "print(\"a[1,:] = \", a[1,:], \",  a[1,:].shape =\", a[1,:].shape, \"a 1-D array\")\n",
    "# same as\n",
    "print(\"a[1]   = \", a[1],   \",  a[1].shape   =\", a[1].shape, \"a 1-D array\")\n",
    "print(\"***********************************************************************\")\n",
    "\"\"\"   row                       column\n",
    "      start:stop:step          index of column\n",
    "                        or \n",
    "       index of row            start:stop:step\n",
    "\n",
    "\"\"\"\n",
    "\n",
    "print(a[:,2:6:1])\n",
    "print(\"************************\")\n",
    "print(a[1,0::2]) #slice in second column to the end of array with step =2 \n",
    "\n"
   ]
  },
  {
   "cell_type": "code",
   "execution_count": null,
   "metadata": {},
   "outputs": [],
   "source": []
  },
  {
   "cell_type": "code",
   "execution_count": null,
   "metadata": {},
   "outputs": [],
   "source": []
  }
 ],
 "metadata": {
  "kernelspec": {
   "display_name": "Python 3",
   "language": "python",
   "name": "python3"
  },
  "language_info": {
   "codemirror_mode": {
    "name": "ipython",
    "version": 3
   },
   "file_extension": ".py",
   "mimetype": "text/x-python",
   "name": "python",
   "nbconvert_exporter": "python",
   "pygments_lexer": "ipython3",
   "version": "3.11.0"
  }
 },
 "nbformat": 4,
 "nbformat_minor": 2
}
