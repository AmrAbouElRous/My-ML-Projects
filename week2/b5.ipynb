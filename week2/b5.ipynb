{
 "cells": [
  {
   "cell_type": "code",
   "execution_count": 198,
   "metadata": {},
   "outputs": [],
   "source": [
    "\"\"\" Polynomial Regression\n",
    "    Quadratic , cubic , exponensal , linear \n",
    "    Same algorithm as linear regression but change f(X)= wX+b into desired equation\n",
    "    \n",
    "    compute_cost\n",
    "    compure_gradient\n",
    "    gradient_descent\n",
    "\"\"\"\n",
    "from lab_utils_multi import zscore_normalize_features, run_gradient_descent_feng\n",
    "import numpy as np\n",
    "import matplotlib.pyplot as plt\n",
    "import math,copy\n",
    "np.set_printoptions(precision=2)\n",
    "\n"
   ]
  },
  {
   "cell_type": "code",
   "execution_count": 199,
   "metadata": {},
   "outputs": [],
   "source": [
    "\"\"\" compute_cost at particular weight\n",
    "    J(w,b) = 1/2m *sum of ( (wX+b)-y )**2 \"\"\"\n",
    "def compute_cost(X, y, w, b):\n",
    "    m = X.shape[0]\n",
    "    cost = 0\n",
    "    for i in range(m):\n",
    "        err = (np.dot(w, X[i]) + b) - y[i]\n",
    "        cost += err ** 2\n",
    "    cost = cost / (2 * m)\n",
    "    return cost"
   ]
  },
  {
   "cell_type": "code",
   "execution_count": 200,
   "metadata": {},
   "outputs": [],
   "source": [
    "\"\"\" compute_gradient \n",
    "    dj_dw = 1/m * sum of ( (wX+b) - y ) * X[i]\n",
    "    dj_db = 1/m * sum of ( (wX+b) - y )\n",
    "\"\"\"\n",
    "def compute_gradient(X, y, w, b):\n",
    "    m = X.shape[0]\n",
    "    dj_dw = np.zeros(X.shape[1])\n",
    "    dj_db = 0 \n",
    "    for i in range(m):\n",
    "        err = (np.dot(w, X[i]) + b) - y[i]\n",
    "        dj_dw += err * X[i]\n",
    "        dj_db += err\n",
    "    dj_dw /= m\n",
    "    dj_db /= m\n",
    "    return dj_dw, dj_db"
   ]
  },
  {
   "cell_type": "code",
   "execution_count": 201,
   "metadata": {},
   "outputs": [],
   "source": [
    "\"\"\" gradient_descent\n",
    "repeat {\n",
    "    w = w - alpha * dj_dw\n",
    "    b = b - alpha * dj_db\n",
    "    }\n",
    "\"\"\"\n",
    "def gradient_descent(X, y, w, b, alpha, num_of_iterations):\n",
    "    w_final = copy.deepcopy(w)\n",
    "    b_final = copy.deepcopy(b)\n",
    "    hist = {\"cost_hist\": [],\n",
    "            \"w_hist\": [],\n",
    "            \"b_hist\": []}\n",
    "    for i in range(num_of_iterations):\n",
    "        d_dw, d_db = compute_gradient(X, y, w_final, b_final)\n",
    "        w_final -= alpha * d_dw\n",
    "        b_final -= alpha * d_db\n",
    "        \n",
    "        hist[\"cost_hist\"].append(compute_cost(X, y, w_final, b_final))\n",
    "        hist[\"w_hist\"].append(copy.deepcopy(w_final))\n",
    "        hist[\"b_hist\"].append(b_final)\n",
    "        \n",
    "        if i % math.ceil(num_of_iterations / 10) == 0:\n",
    "            print(f\"at iteration {i} w = {w_final} b = {b_final} cost = {compute_cost(X, y, w_final, b_final)}\")\n",
    "    return w_final, b_final, hist\n",
    "    "
   ]
  },
  {
   "cell_type": "code",
   "execution_count": 202,
   "metadata": {},
   "outputs": [
    {
     "name": "stdout",
     "output_type": "stream",
     "text": [
      "at iteration 0 w = [1.1] b = 1.245 cost = 13916.990174999999\n",
      "at iteration 100 w = [69.86] b = 79.38468377636809 cost = 2244.690139352791\n",
      "at iteration 200 w = [95.03] b = 107.9863351753819 cost = 680.8391757322003\n",
      "at iteration 300 w = [104.24] b = 118.45546460124366 cost = 471.31493210000343\n",
      "at iteration 400 w = [107.61] b = 122.28750455608434 cost = 443.2429420633013\n",
      "at iteration 500 w = [108.85] b = 123.69015511260716 cost = 439.481865965568\n",
      "at iteration 600 w = [109.3] b = 124.20357057979946 cost = 438.97795821287775\n",
      "at iteration 700 w = [109.46] b = 124.39149724530174 cost = 438.91044481601386\n",
      "at iteration 800 w = [109.52] b = 124.46028448266318 cost = 438.9013993930533\n",
      "at iteration 900 w = [109.55] b = 124.48546283620435 cost = 438.90018749022636\n"
     ]
    }
   ],
   "source": [
    "# Example usage:\n",
    "x = np.arange(0, 20, 1)\n",
    "y = 1 + x**2\n",
    "X = x.reshape(-1, 1)\n",
    "w = np.zeros(X.shape[1])  # Initial weights\n",
    "b = 0  # Initial bias\n",
    "alpha = 1e-2  # Learning rate\n",
    "num_of_iterations = 1000  # Number of iterations\n",
    "\n",
    "def z_score_normalization(X): # Normalizing X\n",
    "    X_norm = copy.deepcopy(X)\n",
    "    mu = np.mean(X_norm,axis=0)\n",
    "    sigma = np.std(X_norm,axis=0)\n",
    "    X_norm = (X_norm-mu)/sigma\n",
    "    return mu,sigma,X_norm\n",
    "\n",
    "mu,sigma,X_norm =  z_score_normalization(X)\n",
    "w_final, b_final, hist = gradient_descent(X_norm, y, w, b, alpha, num_of_iterations)\n",
    "\n",
    "\n"
   ]
  },
  {
   "cell_type": "code",
   "execution_count": 203,
   "metadata": {},
   "outputs": [],
   "source": [
    "\"\"\"precition of y predictedt\n",
    "    f(x) = w.X + b \n",
    "\"\"\"\n",
    "def predict(X_norm,w_final,b_final): # X_norm w_final b_final\n",
    "    m =X_norm.shape[0]\n",
    "    y_predict = np.zeros(m)\n",
    "    for i in range(m):\n",
    "        y_predict[i]=np.dot(w_final,X_norm[i])+b_final\n",
    "    return y_predict\n",
    "\n",
    "\n"
   ]
  },
  {
   "cell_type": "code",
   "execution_count": 204,
   "metadata": {},
   "outputs": [
    {
     "data": {
      "image/png": "[encoded data removed]",
      "text/plain": [
       "<Figure size 640x480 with 1 Axes>"
      ]
     },
     "metadata": {},
     "output_type": "display_data"
    }
   ],
   "source": [
    "\n",
    "\n",
    "plt.scatter(X_norm[:,0],y,label=\"target\",color=\"red\")\n",
    "plt.plot(X_norm[:,0],predict(X_norm,w_final,b_final),label=\"prediction\")\n",
    "    \n",
    "plt.legend()\n",
    "plt.show()    "
   ]
  },
  {
   "cell_type": "markdown",
   "metadata": {},
   "source": [
    "Linear regression doesnot work with qudaratic target y"
   ]
  },
  {
   "cell_type": "code",
   "execution_count": null,
   "metadata": {},
   "outputs": [],
   "source": []
  }
 ],
 "metadata": {
  "kernelspec": {
   "display_name": "Python 3",
   "language": "python",
   "name": "python3"
  },
  "language_info": {
   "codemirror_mode": {
    "name": "ipython",
    "version": 3
   },
   "file_extension": ".py",
   "mimetype": "text/x-python",
   "name": "python",
   "nbconvert_exporter": "python",
   "pygments_lexer": "ipython3",
   "version": "3.11.0"
  }
 },
 "nbformat": 4,
 "nbformat_minor": 2
}
